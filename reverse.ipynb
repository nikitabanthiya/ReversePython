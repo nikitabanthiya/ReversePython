{
 "cells": [
  {
   "cell_type": "code",
   "execution_count": 10,
   "metadata": {},
   "outputs": [
    {
     "name": "stdout",
     "output_type": "stream",
     "text": [
      "Plase enter the string :   abcde\n",
      "bcdeand isa\n",
      "cdeand isb\n",
      "deand isc\n",
      "eand isd\n",
      "and ise\n",
      "edcba\n"
     ]
    }
   ],
   "source": [
    "# Python program to reverse a string without stack \n",
    "# using extended slice syntax \n",
    "# @Nikita\n",
    "# 1 Function to reverse a string\n",
    "def fisrtReverseMethod(string):\n",
    "    string = string[::-1]\n",
    "    return string\n",
    "\n",
    "\n",
    "# 2 Python code to reverse a string  \n",
    "# using loop \n",
    "\n",
    "def secondReverseMethod(string):\n",
    "    str = \"\"\n",
    "    for i in string:\n",
    "        str = i + str\n",
    "    return str\n",
    "\n",
    "\n",
    "# 3 Python code to reverse a string  \n",
    "# using recursion \n",
    "\n",
    "def thirdReverseMethod(string):\n",
    "    if len(string) == 0:\n",
    "        return string\n",
    "    else:\n",
    "        return(thirdReverseMethod(string[1:0]) string[0])\n",
    "    # 4 Python code to reverse a string\n",
    "\n",
    "\n",
    "# using reversed() method\n",
    "\n",
    "# Function to reverse a string \n",
    "def forthReverseString(string):\n",
    "    string = \"\".join(reversed(string))\n",
    "    return string\n",
    "\n",
    "\n",
    "str = input(\"Plase enter the string :   \")\n",
    "# rev_str = forthReverseString(str)\n",
    "# print(\"Original String is : \", str, \"   And Reverse String is : \", rev_str)\n",
    "print(thirdReverseMethod(str))"
   ]
  },
  {
   "cell_type": "code",
   "execution_count": null,
   "metadata": {},
   "outputs": [],
   "source": []
  }
 ],
 "metadata": {
  "kernelspec": {
   "display_name": "Python 3",
   "language": "python",
   "name": "python3"
  },
  "language_info": {
   "codemirror_mode": {
    "name": "ipython",
    "version": 3
   },
   "file_extension": ".py",
   "mimetype": "text/x-python",
   "name": "python",
   "nbconvert_exporter": "python",
   "pygments_lexer": "ipython3",
   "version": "3.7.1"
  }
 },
 "nbformat": 4,
 "nbformat_minor": 2
}
